{
 "cells": [
  {
   "cell_type": "code",
   "execution_count": 1,
   "id": "fdc74080",
   "metadata": {
    "_cell_guid": "b1076dfc-b9ad-4769-8c92-a6c4dae69d19",
    "_uuid": "8f2839f25d086af736a60e9eeb907d3b93b6e0e5",
    "execution": {
     "iopub.execute_input": "2025-07-09T11:39:30.423029Z",
     "iopub.status.busy": "2025-07-09T11:39:30.422286Z",
     "iopub.status.idle": "2025-07-09T11:39:32.100873Z",
     "shell.execute_reply": "2025-07-09T11:39:32.099821Z"
    },
    "papermill": {
     "duration": 1.684889,
     "end_time": "2025-07-09T11:39:32.102396",
     "exception": false,
     "start_time": "2025-07-09T11:39:30.417507",
     "status": "completed"
    },
    "tags": []
   },
   "outputs": [
    {
     "name": "stdout",
     "output_type": "stream",
     "text": [
      "/kaggle/input/extrovert-vs-introvert-behavior-data/personality_datasert.csv\n",
      "/kaggle/input/extrovert-vs-introvert-behavior-data/personality_dataset.csv\n"
     ]
    }
   ],
   "source": [
    "# This Python 3 environment comes with many helpful analytics libraries installed\n",
    "# It is defined by the kaggle/python Docker image: https://github.com/kaggle/docker-python\n",
    "# For example, here's several helpful packages to load\n",
    "\n",
    "import numpy as np # linear algebra\n",
    "import pandas as pd # data processing, CSV file I/O (e.g. pd.read_csv)\n",
    "\n",
    "# Input data files are available in the read-only \"../input/\" directory\n",
    "# For example, running this (by clicking run or pressing Shift+Enter) will list all files under the input directory\n",
    "\n",
    "import os\n",
    "for dirname, _, filenames in os.walk('/kaggle/input'):\n",
    "    for filename in filenames:\n",
    "        print(os.path.join(dirname, filename))\n",
    "\n",
    "# You can write up to 20GB to the current directory (/kaggle/working/) that gets preserved as output when you create a version using \"Save & Run All\" \n",
    "# You can also write temporary files to /kaggle/temp/, but they won't be saved outside of the current session"
   ]
  },
  {
   "cell_type": "code",
   "execution_count": 2,
   "id": "f2f60e47",
   "metadata": {
    "execution": {
     "iopub.execute_input": "2025-07-09T11:39:32.109559Z",
     "iopub.status.busy": "2025-07-09T11:39:32.109222Z",
     "iopub.status.idle": "2025-07-09T11:39:32.158775Z",
     "shell.execute_reply": "2025-07-09T11:39:32.157854Z"
    },
    "papermill": {
     "duration": 0.054539,
     "end_time": "2025-07-09T11:39:32.160137",
     "exception": false,
     "start_time": "2025-07-09T11:39:32.105598",
     "status": "completed"
    },
    "tags": []
   },
   "outputs": [
    {
     "data": {
      "text/html": [
       "<div>\n",
       "<style scoped>\n",
       "    .dataframe tbody tr th:only-of-type {\n",
       "        vertical-align: middle;\n",
       "    }\n",
       "\n",
       "    .dataframe tbody tr th {\n",
       "        vertical-align: top;\n",
       "    }\n",
       "\n",
       "    .dataframe thead th {\n",
       "        text-align: right;\n",
       "    }\n",
       "</style>\n",
       "<table border=\"1\" class=\"dataframe\">\n",
       "  <thead>\n",
       "    <tr style=\"text-align: right;\">\n",
       "      <th></th>\n",
       "      <th>Time_spent_Alone</th>\n",
       "      <th>Stage_fear</th>\n",
       "      <th>Social_event_attendance</th>\n",
       "      <th>Going_outside</th>\n",
       "      <th>Drained_after_socializing</th>\n",
       "      <th>Friends_circle_size</th>\n",
       "      <th>Post_frequency</th>\n",
       "      <th>Personality</th>\n",
       "    </tr>\n",
       "  </thead>\n",
       "  <tbody>\n",
       "    <tr>\n",
       "      <th>0</th>\n",
       "      <td>4.0</td>\n",
       "      <td>No</td>\n",
       "      <td>4.0</td>\n",
       "      <td>6.0</td>\n",
       "      <td>No</td>\n",
       "      <td>13.0</td>\n",
       "      <td>5.0</td>\n",
       "      <td>Extrovert</td>\n",
       "    </tr>\n",
       "    <tr>\n",
       "      <th>1</th>\n",
       "      <td>9.0</td>\n",
       "      <td>Yes</td>\n",
       "      <td>0.0</td>\n",
       "      <td>0.0</td>\n",
       "      <td>Yes</td>\n",
       "      <td>0.0</td>\n",
       "      <td>3.0</td>\n",
       "      <td>Introvert</td>\n",
       "    </tr>\n",
       "    <tr>\n",
       "      <th>2</th>\n",
       "      <td>9.0</td>\n",
       "      <td>Yes</td>\n",
       "      <td>1.0</td>\n",
       "      <td>2.0</td>\n",
       "      <td>Yes</td>\n",
       "      <td>5.0</td>\n",
       "      <td>2.0</td>\n",
       "      <td>Introvert</td>\n",
       "    </tr>\n",
       "    <tr>\n",
       "      <th>3</th>\n",
       "      <td>0.0</td>\n",
       "      <td>No</td>\n",
       "      <td>6.0</td>\n",
       "      <td>7.0</td>\n",
       "      <td>No</td>\n",
       "      <td>14.0</td>\n",
       "      <td>8.0</td>\n",
       "      <td>Extrovert</td>\n",
       "    </tr>\n",
       "    <tr>\n",
       "      <th>4</th>\n",
       "      <td>3.0</td>\n",
       "      <td>No</td>\n",
       "      <td>9.0</td>\n",
       "      <td>4.0</td>\n",
       "      <td>No</td>\n",
       "      <td>8.0</td>\n",
       "      <td>5.0</td>\n",
       "      <td>Extrovert</td>\n",
       "    </tr>\n",
       "  </tbody>\n",
       "</table>\n",
       "</div>"
      ],
      "text/plain": [
       "   Time_spent_Alone Stage_fear  Social_event_attendance  Going_outside  \\\n",
       "0               4.0         No                      4.0            6.0   \n",
       "1               9.0        Yes                      0.0            0.0   \n",
       "2               9.0        Yes                      1.0            2.0   \n",
       "3               0.0         No                      6.0            7.0   \n",
       "4               3.0         No                      9.0            4.0   \n",
       "\n",
       "  Drained_after_socializing  Friends_circle_size  Post_frequency Personality  \n",
       "0                        No                 13.0             5.0   Extrovert  \n",
       "1                       Yes                  0.0             3.0   Introvert  \n",
       "2                       Yes                  5.0             2.0   Introvert  \n",
       "3                        No                 14.0             8.0   Extrovert  \n",
       "4                        No                  8.0             5.0   Extrovert  "
      ]
     },
     "execution_count": 2,
     "metadata": {},
     "output_type": "execute_result"
    }
   ],
   "source": [
    "dataset = pd.read_csv(\"/kaggle/input/extrovert-vs-introvert-behavior-data/personality_datasert.csv\")\n",
    "dataset.head()"
   ]
  },
  {
   "cell_type": "code",
   "execution_count": 3,
   "id": "014f8631",
   "metadata": {
    "execution": {
     "iopub.execute_input": "2025-07-09T11:39:32.167914Z",
     "iopub.status.busy": "2025-07-09T11:39:32.167347Z",
     "iopub.status.idle": "2025-07-09T11:39:32.175605Z",
     "shell.execute_reply": "2025-07-09T11:39:32.174931Z"
    },
    "papermill": {
     "duration": 0.013374,
     "end_time": "2025-07-09T11:39:32.176848",
     "exception": false,
     "start_time": "2025-07-09T11:39:32.163474",
     "status": "completed"
    },
    "tags": []
   },
   "outputs": [
    {
     "data": {
      "text/plain": [
       "Time_spent_Alone             0\n",
       "Stage_fear                   0\n",
       "Social_event_attendance      0\n",
       "Going_outside                0\n",
       "Drained_after_socializing    0\n",
       "Friends_circle_size          0\n",
       "Post_frequency               0\n",
       "Personality                  0\n",
       "dtype: int64"
      ]
     },
     "execution_count": 3,
     "metadata": {},
     "output_type": "execute_result"
    }
   ],
   "source": [
    "dataset.isnull().sum()"
   ]
  },
  {
   "cell_type": "code",
   "execution_count": 4,
   "id": "eef047db",
   "metadata": {
    "execution": {
     "iopub.execute_input": "2025-07-09T11:39:32.184832Z",
     "iopub.status.busy": "2025-07-09T11:39:32.184161Z",
     "iopub.status.idle": "2025-07-09T11:39:32.197409Z",
     "shell.execute_reply": "2025-07-09T11:39:32.196460Z"
    },
    "papermill": {
     "duration": 0.018563,
     "end_time": "2025-07-09T11:39:32.198780",
     "exception": false,
     "start_time": "2025-07-09T11:39:32.180217",
     "status": "completed"
    },
    "tags": []
   },
   "outputs": [
    {
     "name": "stderr",
     "output_type": "stream",
     "text": [
      "/tmp/ipykernel_13/1061327800.py:3: FutureWarning: Downcasting behavior in `replace` is deprecated and will be removed in a future version. To retain the old behavior, explicitly call `result.infer_objects(copy=False)`. To opt-in to the future behavior, set `pd.set_option('future.no_silent_downcasting', True)`\n",
      "  dataset[col] = dataset[col].replace({\"Yes\":1,\"No\":0}).astype(int)\n",
      "/tmp/ipykernel_13/1061327800.py:3: FutureWarning: Downcasting behavior in `replace` is deprecated and will be removed in a future version. To retain the old behavior, explicitly call `result.infer_objects(copy=False)`. To opt-in to the future behavior, set `pd.set_option('future.no_silent_downcasting', True)`\n",
      "  dataset[col] = dataset[col].replace({\"Yes\":1,\"No\":0}).astype(int)\n",
      "/tmp/ipykernel_13/1061327800.py:5: FutureWarning: Downcasting behavior in `replace` is deprecated and will be removed in a future version. To retain the old behavior, explicitly call `result.infer_objects(copy=False)`. To opt-in to the future behavior, set `pd.set_option('future.no_silent_downcasting', True)`\n",
      "  dataset[\"Personality\"] = dataset[\"Personality\"].replace({\"Extrovert\" : 1,\"Introvert\" : 0}).astype(int)\n"
     ]
    }
   ],
   "source": [
    "binary_cols = [\"Stage_fear\",\"Drained_after_socializing\"]\n",
    "for col in binary_cols:\n",
    "    dataset[col] = dataset[col].replace({\"Yes\":1,\"No\":0}).astype(int)\n",
    "\n",
    "dataset[\"Personality\"] = dataset[\"Personality\"].replace({\"Extrovert\" : 1,\"Introvert\" : 0}).astype(int)"
   ]
  },
  {
   "cell_type": "code",
   "execution_count": 5,
   "id": "4c2be562",
   "metadata": {
    "execution": {
     "iopub.execute_input": "2025-07-09T11:39:32.206388Z",
     "iopub.status.busy": "2025-07-09T11:39:32.206125Z",
     "iopub.status.idle": "2025-07-09T11:39:32.217626Z",
     "shell.execute_reply": "2025-07-09T11:39:32.216703Z"
    },
    "papermill": {
     "duration": 0.016747,
     "end_time": "2025-07-09T11:39:32.218896",
     "exception": false,
     "start_time": "2025-07-09T11:39:32.202149",
     "status": "completed"
    },
    "tags": []
   },
   "outputs": [
    {
     "data": {
      "text/html": [
       "<div>\n",
       "<style scoped>\n",
       "    .dataframe tbody tr th:only-of-type {\n",
       "        vertical-align: middle;\n",
       "    }\n",
       "\n",
       "    .dataframe tbody tr th {\n",
       "        vertical-align: top;\n",
       "    }\n",
       "\n",
       "    .dataframe thead th {\n",
       "        text-align: right;\n",
       "    }\n",
       "</style>\n",
       "<table border=\"1\" class=\"dataframe\">\n",
       "  <thead>\n",
       "    <tr style=\"text-align: right;\">\n",
       "      <th></th>\n",
       "      <th>Time_spent_Alone</th>\n",
       "      <th>Stage_fear</th>\n",
       "      <th>Social_event_attendance</th>\n",
       "      <th>Going_outside</th>\n",
       "      <th>Drained_after_socializing</th>\n",
       "      <th>Friends_circle_size</th>\n",
       "      <th>Post_frequency</th>\n",
       "      <th>Personality</th>\n",
       "    </tr>\n",
       "  </thead>\n",
       "  <tbody>\n",
       "    <tr>\n",
       "      <th>0</th>\n",
       "      <td>4.0</td>\n",
       "      <td>0</td>\n",
       "      <td>4.0</td>\n",
       "      <td>6.0</td>\n",
       "      <td>0</td>\n",
       "      <td>13.0</td>\n",
       "      <td>5.0</td>\n",
       "      <td>1</td>\n",
       "    </tr>\n",
       "    <tr>\n",
       "      <th>1</th>\n",
       "      <td>9.0</td>\n",
       "      <td>1</td>\n",
       "      <td>0.0</td>\n",
       "      <td>0.0</td>\n",
       "      <td>1</td>\n",
       "      <td>0.0</td>\n",
       "      <td>3.0</td>\n",
       "      <td>0</td>\n",
       "    </tr>\n",
       "    <tr>\n",
       "      <th>2</th>\n",
       "      <td>9.0</td>\n",
       "      <td>1</td>\n",
       "      <td>1.0</td>\n",
       "      <td>2.0</td>\n",
       "      <td>1</td>\n",
       "      <td>5.0</td>\n",
       "      <td>2.0</td>\n",
       "      <td>0</td>\n",
       "    </tr>\n",
       "    <tr>\n",
       "      <th>3</th>\n",
       "      <td>0.0</td>\n",
       "      <td>0</td>\n",
       "      <td>6.0</td>\n",
       "      <td>7.0</td>\n",
       "      <td>0</td>\n",
       "      <td>14.0</td>\n",
       "      <td>8.0</td>\n",
       "      <td>1</td>\n",
       "    </tr>\n",
       "    <tr>\n",
       "      <th>4</th>\n",
       "      <td>3.0</td>\n",
       "      <td>0</td>\n",
       "      <td>9.0</td>\n",
       "      <td>4.0</td>\n",
       "      <td>0</td>\n",
       "      <td>8.0</td>\n",
       "      <td>5.0</td>\n",
       "      <td>1</td>\n",
       "    </tr>\n",
       "  </tbody>\n",
       "</table>\n",
       "</div>"
      ],
      "text/plain": [
       "   Time_spent_Alone  Stage_fear  Social_event_attendance  Going_outside  \\\n",
       "0               4.0           0                      4.0            6.0   \n",
       "1               9.0           1                      0.0            0.0   \n",
       "2               9.0           1                      1.0            2.0   \n",
       "3               0.0           0                      6.0            7.0   \n",
       "4               3.0           0                      9.0            4.0   \n",
       "\n",
       "   Drained_after_socializing  Friends_circle_size  Post_frequency  Personality  \n",
       "0                          0                 13.0             5.0            1  \n",
       "1                          1                  0.0             3.0            0  \n",
       "2                          1                  5.0             2.0            0  \n",
       "3                          0                 14.0             8.0            1  \n",
       "4                          0                  8.0             5.0            1  "
      ]
     },
     "execution_count": 5,
     "metadata": {},
     "output_type": "execute_result"
    }
   ],
   "source": [
    "dataset.head()"
   ]
  },
  {
   "cell_type": "code",
   "execution_count": 6,
   "id": "d9fff33b",
   "metadata": {
    "execution": {
     "iopub.execute_input": "2025-07-09T11:39:32.227155Z",
     "iopub.status.busy": "2025-07-09T11:39:32.226456Z",
     "iopub.status.idle": "2025-07-09T11:39:33.728745Z",
     "shell.execute_reply": "2025-07-09T11:39:33.727886Z"
    },
    "papermill": {
     "duration": 1.507926,
     "end_time": "2025-07-09T11:39:33.730358",
     "exception": false,
     "start_time": "2025-07-09T11:39:32.222432",
     "status": "completed"
    },
    "tags": []
   },
   "outputs": [],
   "source": [
    "from sklearn.model_selection import train_test_split\n",
    "\n",
    "x = dataset.drop(columns = [\"Personality\"])\n",
    "y = dataset[\"Personality\"]\n",
    "\n",
    "x_train, x_test, y_train, y_test = train_test_split(x,y,test_size = 0.2,random_state = 1)"
   ]
  },
  {
   "cell_type": "code",
   "execution_count": 7,
   "id": "7d7f3330",
   "metadata": {
    "execution": {
     "iopub.execute_input": "2025-07-09T11:39:33.738815Z",
     "iopub.status.busy": "2025-07-09T11:39:33.738395Z",
     "iopub.status.idle": "2025-07-09T11:39:34.390261Z",
     "shell.execute_reply": "2025-07-09T11:39:34.388965Z"
    },
    "papermill": {
     "duration": 0.657726,
     "end_time": "2025-07-09T11:39:34.391763",
     "exception": false,
     "start_time": "2025-07-09T11:39:33.734037",
     "status": "completed"
    },
    "tags": []
   },
   "outputs": [
    {
     "name": "stdout",
     "output_type": "stream",
     "text": [
      "              precision    recall  f1-score   support\n",
      "\n",
      "           0       0.87      0.93      0.90       262\n",
      "           1       0.94      0.89      0.91       318\n",
      "\n",
      "    accuracy                           0.91       580\n",
      "   macro avg       0.91      0.91      0.91       580\n",
      "weighted avg       0.91      0.91      0.91       580\n",
      "\n",
      "[[244  18]\n",
      " [ 35 283]]\n"
     ]
    }
   ],
   "source": [
    "from sklearn.ensemble import RandomForestClassifier\n",
    "from sklearn.metrics import confusion_matrix,classification_report\n",
    "\n",
    "model = RandomForestClassifier(n_estimators = 100,random_state = 0)\n",
    "model.fit(x_train,y_train)\n",
    "y_pred = model.predict(x_test)\n",
    "\n",
    "cm = confusion_matrix(y_test,y_pred)\n",
    "print(classification_report(y_test,y_pred))\n",
    "print(cm)"
   ]
  },
  {
   "cell_type": "code",
   "execution_count": 8,
   "id": "8264215a",
   "metadata": {
    "execution": {
     "iopub.execute_input": "2025-07-09T11:39:34.400417Z",
     "iopub.status.busy": "2025-07-09T11:39:34.400090Z",
     "iopub.status.idle": "2025-07-09T11:39:35.005509Z",
     "shell.execute_reply": "2025-07-09T11:39:35.004677Z"
    },
    "papermill": {
     "duration": 0.61153,
     "end_time": "2025-07-09T11:39:35.007097",
     "exception": false,
     "start_time": "2025-07-09T11:39:34.395567",
     "status": "completed"
    },
    "tags": []
   },
   "outputs": [],
   "source": [
    "import seaborn as sns\n",
    "import matplotlib.pyplot as plt"
   ]
  },
  {
   "cell_type": "code",
   "execution_count": 9,
   "id": "decd5230",
   "metadata": {
    "execution": {
     "iopub.execute_input": "2025-07-09T11:39:35.015926Z",
     "iopub.status.busy": "2025-07-09T11:39:35.015534Z",
     "iopub.status.idle": "2025-07-09T11:39:35.296091Z",
     "shell.execute_reply": "2025-07-09T11:39:35.295429Z"
    },
    "papermill": {
     "duration": 0.286722,
     "end_time": "2025-07-09T11:39:35.297554",
     "exception": false,
     "start_time": "2025-07-09T11:39:35.010832",
     "status": "completed"
    },
    "tags": []
   },
   "outputs": [
    {
     "data": {
      "text/plain": [
       "Text(0.5, 1.0, 'Confusion Matrics')"
      ]
     },
     "execution_count": 9,
     "metadata": {},
     "output_type": "execute_result"
    },
    {
     "data": {
      "image/png": "[encoded data removed]",
      "text/plain": [
       "<Figure size 600x500 with 2 Axes>"
      ]
     },
     "metadata": {},
     "output_type": "display_data"
    }
   ],
   "source": [
    "plt.figure(figsize = (6,5))\n",
    "sns.heatmap(cm,annot=True,fmt=\"d\",cmap=\"Reds\",xticklabels = [\"Predicted 0\",\"Predict 1\"], yticklabels = [\"Actual 0\",\"Actual 1\"])\n",
    "plt.xlabel(\"Tahmin\")\n",
    "plt.ylabel(\"Gerçek\")\n",
    "plt.title(\"Confusion Matrics\")\n"
   ]
  },
  {
   "cell_type": "code",
   "execution_count": 10,
   "id": "c9d079f3",
   "metadata": {
    "execution": {
     "iopub.execute_input": "2025-07-09T11:39:35.306927Z",
     "iopub.status.busy": "2025-07-09T11:39:35.306627Z",
     "iopub.status.idle": "2025-07-09T11:39:35.660176Z",
     "shell.execute_reply": "2025-07-09T11:39:35.659050Z"
    },
    "papermill": {
     "duration": 0.359706,
     "end_time": "2025-07-09T11:39:35.661609",
     "exception": false,
     "start_time": "2025-07-09T11:39:35.301903",
     "status": "completed"
    },
    "tags": []
   },
   "outputs": [
    {
     "name": "stdout",
     "output_type": "stream",
     "text": [
      "              precision    recall  f1-score   support\n",
      "\n",
      "           0       0.86      0.94      0.90       262\n",
      "           1       0.95      0.87      0.91       318\n",
      "\n",
      "    accuracy                           0.90       580\n",
      "   macro avg       0.90      0.91      0.90       580\n",
      "weighted avg       0.91      0.90      0.90       580\n",
      "\n",
      "[[247  15]\n",
      " [ 41 277]]\n"
     ]
    }
   ],
   "source": [
    "import xgboost as xgb\n",
    "\n",
    "xgb = xgb.XGBClassifier(use_label_encoder = False,eval_metric = \"logloss\")\n",
    "xgb.fit(x_train,y_train)\n",
    "y_pred_xgb = xgb.predict(x_test)\n",
    "\n",
    "cm_xgb = confusion_matrix(y_test, y_pred_xgb)\n",
    "print(classification_report(y_test, y_pred_xgb))\n",
    "print(cm_xgb)"
   ]
  },
  {
   "cell_type": "code",
   "execution_count": 11,
   "id": "45419a74",
   "metadata": {
    "execution": {
     "iopub.execute_input": "2025-07-09T11:39:35.672548Z",
     "iopub.status.busy": "2025-07-09T11:39:35.672079Z",
     "iopub.status.idle": "2025-07-09T11:39:44.497300Z",
     "shell.execute_reply": "2025-07-09T11:39:44.495363Z"
    },
    "papermill": {
     "duration": 8.832799,
     "end_time": "2025-07-09T11:39:44.498628",
     "exception": false,
     "start_time": "2025-07-09T11:39:35.665829",
     "status": "completed"
    },
    "tags": []
   },
   "outputs": [
    {
     "name": "stdout",
     "output_type": "stream",
     "text": [
      "Fitting 3 folds for each of 108 candidates, totalling 324 fits\n",
      "En iyi model:  {'colsample_bytree': 0.7, 'learning_rate': 0.01, 'max_depth': 3, 'n_estimators': 50, 'subsample': 0.7}\n",
      "En iyi doğruluk:  0.9387895522105336\n"
     ]
    }
   ],
   "source": [
    "from sklearn.model_selection import GridSearchCV\n",
    "import xgboost as xgb\n",
    "\n",
    "param_grid = {\n",
    "    \"max_depth\": [3, 5, 7],\n",
    "    \"learning_rate\": [0.01, 0.1, 0.2],\n",
    "    \"n_estimators\": [50, 100, 200],\n",
    "    \"subsample\": [0.7, 1.0],\n",
    "    \"colsample_bytree\": [0.7, 1.0]\n",
    "}\n",
    "\n",
    "xgb_model = xgb.XGBClassifier(use_label_encoder=False, eval_metric=\"logloss\", random_state=0)\n",
    "grid_search = GridSearchCV(estimator=xgb_model,\n",
    "                           param_grid=param_grid,\n",
    "                           scoring=\"accuracy\",\n",
    "                           cv=3,\n",
    "                           verbose=1,\n",
    "                           n_jobs=-1)\n",
    "\n",
    "grid_search.fit(x_train, y_train)\n",
    "\n",
    "print(\"En iyi model: \", grid_search.best_params_)\n",
    "print(\"En iyi doğruluk: \", grid_search.best_score_)\n",
    "\n"
   ]
  },
  {
   "cell_type": "code",
   "execution_count": 12,
   "id": "1fb69309",
   "metadata": {
    "execution": {
     "iopub.execute_input": "2025-07-09T11:39:44.510193Z",
     "iopub.status.busy": "2025-07-09T11:39:44.509854Z",
     "iopub.status.idle": "2025-07-09T11:39:44.532197Z",
     "shell.execute_reply": "2025-07-09T11:39:44.531063Z"
    },
    "papermill": {
     "duration": 0.030064,
     "end_time": "2025-07-09T11:39:44.533705",
     "exception": false,
     "start_time": "2025-07-09T11:39:44.503641",
     "status": "completed"
    },
    "tags": []
   },
   "outputs": [
    {
     "name": "stdout",
     "output_type": "stream",
     "text": [
      "              precision    recall  f1-score   support\n",
      "\n",
      "           0       0.94      0.88      0.91       280\n",
      "           1       0.90      0.95      0.92       300\n",
      "\n",
      "    accuracy                           0.92       580\n",
      "   macro avg       0.92      0.92      0.92       580\n",
      "weighted avg       0.92      0.92      0.92       580\n",
      "\n",
      "[[244  35]\n",
      " [ 18 283]]\n"
     ]
    }
   ],
   "source": [
    "from sklearn.metrics import confusion_matrix,classification_report\n",
    "\n",
    "best_xgb = grid_search.best_estimator_  # Model objesi\n",
    "y_pred_best = best_xgb.predict(x_test)\n",
    "print(classification_report(y_pred_best,y_test))\n",
    "cm_xgb_best = confusion_matrix(y_pred,y_test)\n",
    "print(cm_xgb_best)"
   ]
  },
  {
   "cell_type": "code",
   "execution_count": 13,
   "id": "1e727845",
   "metadata": {
    "execution": {
     "iopub.execute_input": "2025-07-09T11:39:44.544828Z",
     "iopub.status.busy": "2025-07-09T11:39:44.544457Z",
     "iopub.status.idle": "2025-07-09T11:39:44.750116Z",
     "shell.execute_reply": "2025-07-09T11:39:44.749194Z"
    },
    "papermill": {
     "duration": 0.213404,
     "end_time": "2025-07-09T11:39:44.751510",
     "exception": false,
     "start_time": "2025-07-09T11:39:44.538106",
     "status": "completed"
    },
    "tags": []
   },
   "outputs": [
    {
     "data": {
      "text/plain": [
       "Text(0.5, 1.0, 'Confusion Matrics')"
      ]
     },
     "execution_count": 13,
     "metadata": {},
     "output_type": "execute_result"
    },
    {
     "data": {
      "image/png": "[encoded data removed]",
      "text/plain": [
       "<Figure size 600x500 with 2 Axes>"
      ]
     },
     "metadata": {},
     "output_type": "display_data"
    }
   ],
   "source": [
    "plt.figure(figsize = (6,5))\n",
    "sns.heatmap(cm,annot=True,fmt=\"d\",cmap=\"Reds\",xticklabels = [\"Predicted 0\",\"Predict 1\"], yticklabels = [\"Actual 0\",\"Actual 1\"])\n",
    "plt.xlabel(\"Tahmin\")\n",
    "plt.ylabel(\"Gerçek\")\n",
    "plt.title(\"Confusion Matrics\")"
   ]
  },
  {
   "cell_type": "code",
   "execution_count": null,
   "id": "38733401",
   "metadata": {
    "papermill": {
     "duration": 0.004513,
     "end_time": "2025-07-09T11:39:44.760967",
     "exception": false,
     "start_time": "2025-07-09T11:39:44.756454",
     "status": "completed"
    },
    "tags": []
   },
   "outputs": [],
   "source": []
  }
 ],
 "metadata": {
  "kaggle": {
   "accelerator": "none",
   "dataSources": [
    {
     "datasetId": 7474089,
     "sourceId": 12156348,
     "sourceType": "datasetVersion"
    }
   ],
   "dockerImageVersionId": 31089,
   "isGpuEnabled": false,
   "isInternetEnabled": true,
   "language": "python",
   "sourceType": "notebook"
  },
  "kernelspec": {
   "display_name": "Python 3",
   "language": "python",
   "name": "python3"
  },
  "language_info": {
   "codemirror_mode": {
    "name": "ipython",
    "version": 3
   },
   "file_extension": ".py",
   "mimetype": "text/x-python",
   "name": "python",
   "nbconvert_exporter": "python",
   "pygments_lexer": "ipython3",
   "version": "3.11.13"
  },
  "papermill": {
   "default_parameters": {},
   "duration": 21.511604,
   "end_time": "2025-07-09T11:39:47.383590",
   "environment_variables": {},
   "exception": null,
   "input_path": "__notebook__.ipynb",
   "output_path": "__notebook__.ipynb",
   "parameters": {},
   "start_time": "2025-07-09T11:39:25.871986",
   "version": "2.6.0"
  }
 },
 "nbformat": 4,
 "nbformat_minor": 5
}
